{
  "cells": [
    {
      "cell_type": "markdown",
      "metadata": {
        "id": "view-in-github",
        "colab_type": "text"
      },
      "source": [
        "<a href=\"https://colab.research.google.com/github/avidesai/HW4/blob/main/HW4_ComputerVision.ipynb\" target=\"_parent\"><img src=\"https://colab.research.google.com/assets/colab-badge.svg\" alt=\"Open In Colab\"/></a>"
      ]
    },
    {
      "cell_type": "markdown",
      "metadata": {
        "id": "aH0GD6vrVqrB"
      },
      "source": [
        "# HW4 Computer Vision"
      ]
    },
    {
      "cell_type": "markdown",
      "metadata": {
        "id": "VrD-qlsRVy_s"
      },
      "source": [
        "## Downloading, Installation, Data"
      ]
    },
    {
      "cell_type": "code",
      "execution_count": null,
      "metadata": {
        "id": "ec89cKpsU5Tw"
      },
      "outputs": [],
      "source": [
        "!unzip homework4_aug_4.zip"
      ]
    },
    {
      "cell_type": "code",
      "execution_count": null,
      "metadata": {
        "id": "eUvsqEFWV7I_"
      },
      "outputs": [],
      "source": [
        "%cd homework4_aug_4/"
      ]
    },
    {
      "cell_type": "code",
      "execution_count": null,
      "metadata": {
        "id": "UPOLz-LOV-TE"
      },
      "outputs": [],
      "source": [
        "!ls"
      ]
    },
    {
      "cell_type": "code",
      "execution_count": null,
      "metadata": {
        "id": "yX8VhJrgV_VX"
      },
      "outputs": [],
      "source": [
        "!pip install -r requirements.txt"
      ]
    },
    {
      "cell_type": "code",
      "execution_count": null,
      "metadata": {
        "id": "r5eVj-TeWA8O"
      },
      "outputs": [],
      "source": [
        "!wget https://utexas.box.com/shared/static/qubjm5isldqvyimfj9rsmbnvnbezwcv4.zip -O supertux_data.zip\n",
        "!unzip supertux_data.zip"
      ]
    },
    {
      "cell_type": "markdown",
      "metadata": {
        "id": "dfNTjeaVWHy9"
      },
      "source": [
        "## Demo"
      ]
    },
    {
      "cell_type": "code",
      "execution_count": null,
      "metadata": {
        "id": "pRQFixjvWKrQ"
      },
      "outputs": [],
      "source": [
        "!python -m homework.finetune demo_train"
      ]
    },
    {
      "cell_type": "code",
      "execution_count": null,
      "metadata": {
        "id": "2K4hAbZtWNZL"
      },
      "outputs": [],
      "source": [
        "!python -m homework.finetune test \"/content/homework4_aug_4/homework/demo_train/checkpoint-5\""
      ]
    },
    {
      "cell_type": "markdown",
      "metadata": {
        "id": "lalRkfJkWREs"
      },
      "source": [
        "## VLM Model"
      ]
    },
    {
      "cell_type": "code",
      "execution_count": null,
      "metadata": {
        "id": "S6D2Q1MhWTUM"
      },
      "outputs": [],
      "source": [
        "!python -m homework.generate_qa check --info_file ./data/valid/00000_info.json --view_index 0"
      ]
    },
    {
      "cell_type": "code",
      "execution_count": null,
      "metadata": {
        "id": "5j8X6JXjWVhU"
      },
      "outputs": [],
      "source": [
        "!python -m homework.generate_qa generate_all"
      ]
    },
    {
      "cell_type": "code",
      "execution_count": null,
      "metadata": {
        "id": "6gMxrvhQWXQD"
      },
      "outputs": [],
      "source": [
        "!python -m homework.finetune train"
      ]
    },
    {
      "cell_type": "code",
      "execution_count": null,
      "metadata": {
        "colab": {
          "base_uri": "https://localhost:8080/"
        },
        "id": "39h7j2J6WY-7",
        "outputId": "33b4f592-fc6c-4cb7-c97f-1aa7a8afa4fc"
      },
      "outputs": [
        {
          "output_type": "stream",
          "name": "stdout",
          "text": [
            "2025-08-11 19:44:30.156636: I tensorflow/core/util/port.cc:153] oneDNN custom operations are on. You may see slightly different numerical results due to floating-point round-off errors from different computation orders. To turn them off, set the environment variable `TF_ENABLE_ONEDNN_OPTS=0`.\n",
            "2025-08-11 19:44:30.175231: E external/local_xla/xla/stream_executor/cuda/cuda_fft.cc:467] Unable to register cuFFT factory: Attempting to register factory for plugin cuFFT when one has already been registered\n",
            "WARNING: All log messages before absl::InitializeLog() is called are written to STDERR\n",
            "E0000 00:00:1754941470.196715   14708 cuda_dnn.cc:8579] Unable to register cuDNN factory: Attempting to register factory for plugin cuDNN when one has already been registered\n",
            "E0000 00:00:1754941470.203268   14708 cuda_blas.cc:1407] Unable to register cuBLAS factory: Attempting to register factory for plugin cuBLAS when one has already been registered\n",
            "W0000 00:00:1754941470.220303   14708 computation_placer.cc:177] computation placer already registered. Please check linkage and avoid linking the same target more than once.\n",
            "W0000 00:00:1754941470.220336   14708 computation_placer.cc:177] computation placer already registered. Please check linkage and avoid linking the same target more than once.\n",
            "W0000 00:00:1754941470.220339   14708 computation_placer.cc:177] computation placer already registered. Please check linkage and avoid linking the same target more than once.\n",
            "W0000 00:00:1754941470.220342   14708 computation_placer.cc:177] computation placer already registered. Please check linkage and avoid linking the same target more than once.\n",
            "2025-08-11 19:44:30.225393: I tensorflow/core/platform/cpu_feature_guard.cc:210] This TensorFlow binary is optimized to use available CPU instructions in performance-critical operations.\n",
            "To enable the following instructions: AVX2 AVX512F AVX512_VNNI FMA, in other operations, rebuild TensorFlow with the appropriate compiler flags.\n",
            "<frozen runpy>:128: RuntimeWarning: 'homework.finetune' found in sys.modules after import of package 'homework', but prior to execution of 'homework.finetune'; this may result in unpredictable behaviour\n",
            "Loaded 120 QA pairs for valid_grader split\n",
            "  0% 0/4 [00:00<?, ?it/s]\tProcessed 32 samples\n",
            "\tQuestions: ['How many karts are to the right of the ego car?', 'How many karts are behind the ego car?', 'What kart is the ego car?', 'Where is xue relative to the ego car?', 'How many karts are to the left of the ego car?', 'How many karts are there in the scenario?', 'What kart is the ego car?', 'How many karts are behind the ego car?', 'What track is this?', 'What kart is the ego car?', 'What kart is the ego car?', 'Is puffy in front of or behind the ego car?', 'What track is this?', 'How many karts are there in the scenario?', 'How many karts are there in the scenario?', 'What kart is the ego car?', 'How many karts are to the left of the ego car?', 'What kart is the ego car?', 'How many karts are in front of the ego car?', 'How many karts are in front of the ego car?', 'How many karts are in front of the ego car?', 'Where is hexley relative to the ego car?', 'How many karts are there in the scenario?', 'What kart is the ego car?', 'Is konqi to the left or right of the ego car?', 'Where is kiki relative to the ego car?', 'Where is hexley relative to the ego car?', 'What track is this?', 'What kart is the ego car?', 'What track is this?', 'What kart is the ego car?', 'What kart is the ego car?']\n",
            "\tResponses: ['1', '1', 'nolok', 'front and left', '1', '1', 'sara_the_wizard', '1', 'hacienda', 'emule', 'sara_the_racer', 'back', 'volcano_island', '1', '1', 'xue', '1', 'konqi', '1', '1', '1', 'back and right', '1', 'adiumy', 'right', 'back and left', 'back and left', 'cocoa_temple', 'gavroche', 'abyss', 'xue', 'emule']\n",
            "\tAnswers: ['2', '2', 'nolok', 'front and right', '1', '1', 'wilber', '3', 'hacienda', 'emule', 'sara_the_racer', 'front', 'volcano_island', '1', '1', 'xue', '1', 'konqi', '1', '1', '1', 'back and right', '2', 'adiumy', 'right', 'front and left', 'front and right', 'cocoa_temple', 'gavroche', 'abyss', 'xue', 'emule']\n",
            " 25% 1/4 [00:05<00:15,  5.11s/it]\tProcessed 64 samples\n",
            "\tQuestions: ['Where is emule relative to the ego car?', 'What track is this?', 'How many karts are in front of the ego car?', 'What kart is the ego car?', 'What kart is the ego car?', 'How many karts are behind the ego car?', 'How many karts are in front of the ego car?', 'How many karts are behind the ego car?', 'How many karts are there in the scenario?', 'How many karts are there in the scenario?', 'What track is this?', 'How many karts are behind the ego car?', 'What kart is the ego car?', 'How many karts are there in the scenario?', 'Is sara_the_wizard to the left or right of the ego car?', 'What kart is the ego car?', 'What kart is the ego car?', 'How many karts are behind the ego car?', 'What track is this?', 'How many karts are to the right of the ego car?', 'What track is this?', 'How many karts are in front of the ego car?', 'Where is puffy relative to the ego car?', 'Where is konqi relative to the ego car?', 'What track is this?', 'What kart is the ego car?', 'How many karts are there in the scenario?', 'What kart is the ego car?', 'Is amanda to the left or right of the ego car?', 'What kart is the ego car?', 'Where is konqi relative to the ego car?', 'Is sara_the_racer in front of or behind the ego car?']\n",
            "\tResponses: ['back and right', 'zengarden', '0', 'sara_the_wizard', 'gnu', '1', '0', '1', '1', '2', 'gran_paradiso_island', '0', 'adiumy', '1', 'left', 'kiki', 'hexley', '1', 'snowmountain', '1', 'cocoa_temple', '1', 'front and right', 'back and right', 'sandtrack', 'konqi', '1', 'kiki', 'left', 'beastie', 'back and left', 'back']\n",
            "\tAnswers: ['back and right', 'zengarden', '1', 'sara_the_wizard', 'gnu', '1', '1', '1', '1', '3', 'gran_paradiso_island', '1', 'adiumy', '1', 'left', 'gnu', 'hexley', '1', 'snowmountain', '1', 'cocoa_temple', '1', 'back and left', 'back and left', 'sandtrack', 'adiumy', '1', 'wilber', 'left', 'beastie', 'back and left', 'back']\n",
            " 50% 2/4 [00:09<00:09,  4.77s/it]\tProcessed 96 samples\n",
            "\tQuestions: ['How many karts are there in the scenario?', 'How many karts are there in the scenario?', 'How many karts are to the left of the ego car?', 'Is hexley in front of or behind the ego car?', 'How many karts are there in the scenario?', 'How many karts are to the right of the ego car?', 'Is amanda in front of or behind the ego car?', 'What track is this?', 'Where is xue relative to the ego car?', 'What kart is the ego car?', 'How many karts are there in the scenario?', 'How many karts are there in the scenario?', 'What track is this?', 'What kart is the ego car?', 'What track is this?', 'How many karts are in front of the ego car?', 'How many karts are behind the ego car?', 'What kart is the ego car?', 'How many karts are there in the scenario?', 'What track is this?', 'How many karts are there in the scenario?', 'How many karts are there in the scenario?', 'Where is puffy relative to the ego car?', 'How many karts are there in the scenario?', 'Is konqi in front of or behind the ego car?', 'How many karts are to the left of the ego car?', 'How many karts are there in the scenario?', 'What track is this?', 'What kart is the ego car?', 'Is beastie to the left or right of the ego car?', 'What track is this?', 'How many karts are there in the scenario?']\n",
            "\tResponses: ['1', '2', '1', 'back', '1', '0', 'front', 'sandtrack', 'front and left', 'hexley', '1', '1', 'hacienda', 'xue', 'candela_city', '0', '1', 'konqi', '1', 'hacienda', '3', '1', 'back and right', '1', 'back', '1', '1', 'overworld', 'kiki', 'left', 'xr591', '3']\n",
            "\tAnswers: ['1', '2', '1', 'front', '1', '1', 'front', 'sandtrack', 'back and left', 'hexley', '1', '2', 'hacienda', 'xue', 'candela_city', '1', '1', 'konqi', '1', 'hacienda', '2', '1', 'back and left', '1', 'back', '1', '1', 'overworld', 'sara_the_wizard', 'right', 'xr591', '3']\n",
            " 75% 3/4 [00:13<00:04,  4.52s/it]\tProcessed 120 samples\n",
            "\tQuestions: ['Where is gavroche relative to the ego car?', 'How many karts are behind the ego car?', 'What track is this?', 'What track is this?', 'Is konqi to the left or right of the ego car?', 'What track is this?', 'How many karts are in front of the ego car?', 'How many karts are there in the scenario?', 'Is amanda in front of or behind the ego car?', 'What track is this?', 'What track is this?', 'What track is this?', 'How many karts are there in the scenario?', 'How many karts are in front of the ego car?', 'How many karts are there in the scenario?', 'Is suzanne to the left or right of the ego car?', 'What track is this?', 'What kart is the ego car?', 'How many karts are there in the scenario?', 'How many karts are there in the scenario?', 'Is gnu to the left or right of the ego car?', 'What track is this?', 'What track is this?', 'What kart is the ego car?']\n",
            "\tResponses: ['back and left', '0', 'black_forest', 'hacienda', 'right', 'tutorial', '0', '1', 'back', 'black_forest', 'olivermath', 'gran_paradiso_island', '1', '0', '4', 'left', 'sandtrack', 'konqi', '2', '2', 'left', 'hacienda', 'cocoa_temple', 'adiumy']\n",
            "\tAnswers: ['front and left', '1', 'black_forest', 'hacienda', 'right', 'tutorial', '1', '1', 'back', 'black_forest', 'olivermath', 'gran_paradiso_island', '1', '1', '6', 'left', 'sandtrack', 'konqi', '2', '2', 'left', 'hacienda', 'cocoa_temple', 'adiumy']\n",
            "100% 4/4 [00:17<00:00,  4.37s/it]\n",
            "88\n",
            "120\n",
            "0.7333333333333333\n"
          ]
        }
      ],
      "source": [
        "!python -m homework.finetune test vlm_model"
      ]
    },
    {
      "cell_type": "code",
      "execution_count": null,
      "metadata": {
        "colab": {
          "base_uri": "https://localhost:8080/"
        },
        "id": "4903-Jy4WeCG",
        "outputId": "5e6c7767-f497-470e-a2a2-416a632d9316"
      },
      "outputs": [
        {
          "output_type": "stream",
          "name": "stdout",
          "text": [
            "16M\thomework/vlm_model/\n"
          ]
        }
      ],
      "source": [
        "!du -sh homework/vlm_model/"
      ]
    },
    {
      "cell_type": "code",
      "execution_count": null,
      "metadata": {
        "id": "egnkI5YFWfty"
      },
      "outputs": [],
      "source": [
        "!rm -rf homework/vlm_model/checkpoint-1414/"
      ]
    },
    {
      "cell_type": "markdown",
      "metadata": {
        "id": "FdlrFijU2aOf"
      },
      "source": [
        "## CLIP Model\n"
      ]
    },
    {
      "cell_type": "code",
      "execution_count": null,
      "metadata": {
        "colab": {
          "base_uri": "https://localhost:8080/"
        },
        "id": "J6oSZcze2dHB",
        "outputId": "9fc27e67-9b2c-4a79-8913-67debd8fcb24"
      },
      "outputs": [
        {
          "output_type": "stream",
          "name": "stdout",
          "text": [
            "2025-08-11 19:47:11.405195: I tensorflow/core/util/port.cc:153] oneDNN custom operations are on. You may see slightly different numerical results due to floating-point round-off errors from different computation orders. To turn them off, set the environment variable `TF_ENABLE_ONEDNN_OPTS=0`.\n",
            "2025-08-11 19:47:11.423146: E external/local_xla/xla/stream_executor/cuda/cuda_fft.cc:467] Unable to register cuFFT factory: Attempting to register factory for plugin cuFFT when one has already been registered\n",
            "WARNING: All log messages before absl::InitializeLog() is called are written to STDERR\n",
            "E0000 00:00:1754941631.444788   15508 cuda_dnn.cc:8579] Unable to register cuDNN factory: Attempting to register factory for plugin cuDNN when one has already been registered\n",
            "E0000 00:00:1754941631.451382   15508 cuda_blas.cc:1407] Unable to register cuBLAS factory: Attempting to register factory for plugin cuBLAS when one has already been registered\n",
            "W0000 00:00:1754941631.468195   15508 computation_placer.cc:177] computation placer already registered. Please check linkage and avoid linking the same target more than once.\n",
            "W0000 00:00:1754941631.468229   15508 computation_placer.cc:177] computation placer already registered. Please check linkage and avoid linking the same target more than once.\n",
            "W0000 00:00:1754941631.468232   15508 computation_placer.cc:177] computation placer already registered. Please check linkage and avoid linking the same target more than once.\n",
            "W0000 00:00:1754941631.468235   15508 computation_placer.cc:177] computation placer already registered. Please check linkage and avoid linking the same target more than once.\n",
            "2025-08-11 19:47:11.473288: I tensorflow/core/platform/cpu_feature_guard.cc:210] This TensorFlow binary is optimized to use available CPU instructions in performance-critical operations.\n",
            "To enable the following instructions: AVX2 AVX512F AVX512_VNNI FMA, in other operations, rebuild TensorFlow with the appropriate compiler flags.\n",
            "\n",
            "Caption:\n",
            "--------------------------------------------------\n",
            "1. gnu is positioned as the ego kart on the abyss track.\n",
            "--------------------------------------------------\n",
            "2. The ego kart on the abyss track is gnu.\n",
            "--------------------------------------------------\n",
            "3. There are 1 other karts present with gnu on the abyss track.\n",
            "--------------------------------------------------\n",
            "4. gnu is navigating the abyss track alongside 1 other karts.\n",
            "--------------------------------------------------\n",
            "5. beastie is positioned ahead and to the right of the ego car\n",
            "--------------------------------------------------\n",
            "6. To the right and ahead of gnu is beastie\n",
            "--------------------------------------------------\n",
            "Figure(1200x800)\n"
          ]
        }
      ],
      "source": [
        "!python -m homework.generate_captions check --info_file data/valid/00000_info.json --view_index 0"
      ]
    },
    {
      "cell_type": "code",
      "execution_count": null,
      "metadata": {
        "colab": {
          "base_uri": "https://localhost:8080/"
        },
        "id": "eAf59CdrVZ9u",
        "outputId": "40b1a6d2-b823-456f-f47d-b620a841518d"
      },
      "outputs": [
        {
          "output_type": "stream",
          "name": "stdout",
          "text": [
            "2025-08-11 19:47:33.818976: I tensorflow/core/util/port.cc:153] oneDNN custom operations are on. You may see slightly different numerical results due to floating-point round-off errors from different computation orders. To turn them off, set the environment variable `TF_ENABLE_ONEDNN_OPTS=0`.\n",
            "2025-08-11 19:47:33.836373: E external/local_xla/xla/stream_executor/cuda/cuda_fft.cc:467] Unable to register cuFFT factory: Attempting to register factory for plugin cuFFT when one has already been registered\n",
            "WARNING: All log messages before absl::InitializeLog() is called are written to STDERR\n",
            "E0000 00:00:1754941653.858428   15642 cuda_dnn.cc:8579] Unable to register cuDNN factory: Attempting to register factory for plugin cuDNN when one has already been registered\n",
            "E0000 00:00:1754941653.865028   15642 cuda_blas.cc:1407] Unable to register cuBLAS factory: Attempting to register factory for plugin cuBLAS when one has already been registered\n",
            "W0000 00:00:1754941653.881340   15642 computation_placer.cc:177] computation placer already registered. Please check linkage and avoid linking the same target more than once.\n",
            "W0000 00:00:1754941653.881372   15642 computation_placer.cc:177] computation placer already registered. Please check linkage and avoid linking the same target more than once.\n",
            "W0000 00:00:1754941653.881375   15642 computation_placer.cc:177] computation placer already registered. Please check linkage and avoid linking the same target more than once.\n",
            "W0000 00:00:1754941653.881378   15642 computation_placer.cc:177] computation placer already registered. Please check linkage and avoid linking the same target more than once.\n",
            "2025-08-11 19:47:33.886179: I tensorflow/core/platform/cpu_feature_guard.cc:210] This TensorFlow binary is optimized to use available CPU instructions in performance-critical operations.\n",
            "To enable the following instructions: AVX2 AVX512F AVX512_VNNI FMA, in other operations, rebuild TensorFlow with the appropriate compiler flags.\n",
            "Processing JSON files: 5250it [00:27, 189.24it/s]\n",
            "Saved 272,712 captions → data/train/train_captions.json\n"
          ]
        }
      ],
      "source": [
        "!python -m homework.generate_captions generate_all"
      ]
    },
    {
      "cell_type": "code",
      "execution_count": null,
      "metadata": {
        "id": "raXeYkm-2wl9"
      },
      "outputs": [],
      "source": [
        "!python -m homework.clip train"
      ]
    },
    {
      "cell_type": "code",
      "execution_count": null,
      "metadata": {
        "colab": {
          "base_uri": "https://localhost:8080/"
        },
        "id": "x7HcFnxl22fB",
        "outputId": "6a5feaef-963d-4820-b1db-8c8804526481"
      },
      "outputs": [
        {
          "output_type": "stream",
          "name": "stdout",
          "text": [
            "2025-08-11 21:02:16.586159: I tensorflow/core/util/port.cc:153] oneDNN custom operations are on. You may see slightly different numerical results due to floating-point round-off errors from different computation orders. To turn them off, set the environment variable `TF_ENABLE_ONEDNN_OPTS=0`.\n",
            "2025-08-11 21:02:16.604921: E external/local_xla/xla/stream_executor/cuda/cuda_fft.cc:467] Unable to register cuFFT factory: Attempting to register factory for plugin cuFFT when one has already been registered\n",
            "WARNING: All log messages before absl::InitializeLog() is called are written to STDERR\n",
            "E0000 00:00:1754946136.626538   35194 cuda_dnn.cc:8579] Unable to register cuDNN factory: Attempting to register factory for plugin cuDNN when one has already been registered\n",
            "E0000 00:00:1754946136.633151   35194 cuda_blas.cc:1407] Unable to register cuBLAS factory: Attempting to register factory for plugin cuBLAS when one has already been registered\n",
            "W0000 00:00:1754946136.650328   35194 computation_placer.cc:177] computation placer already registered. Please check linkage and avoid linking the same target more than once.\n",
            "W0000 00:00:1754946136.650361   35194 computation_placer.cc:177] computation placer already registered. Please check linkage and avoid linking the same target more than once.\n",
            "W0000 00:00:1754946136.650364   35194 computation_placer.cc:177] computation placer already registered. Please check linkage and avoid linking the same target more than once.\n",
            "W0000 00:00:1754946136.650366   35194 computation_placer.cc:177] computation placer already registered. Please check linkage and avoid linking the same target more than once.\n",
            "2025-08-11 21:02:16.655369: I tensorflow/core/platform/cpu_feature_guard.cc:210] This TensorFlow binary is optimized to use available CPU instructions in performance-critical operations.\n",
            "To enable the following instructions: AVX2 AVX512F AVX512_VNNI FMA, in other operations, rebuild TensorFlow with the appropriate compiler flags.\n",
            "<frozen runpy>:128: RuntimeWarning: 'homework.clip' found in sys.modules after import of package 'homework', but prior to execution of 'homework.clip'; this may result in unpredictable behaviour\n",
            "Loaded 200 QA pairs for valid_grader split\n",
            "100% 200/200 [00:24<00:00,  8.22it/s]\n",
            "Accuracy: 0.615\n"
          ]
        }
      ],
      "source": [
        "!python -m homework.clip test clip"
      ]
    },
    {
      "cell_type": "code",
      "source": [
        "!du -sh homework/clip_model/"
      ],
      "metadata": {
        "colab": {
          "base_uri": "https://localhost:8080/"
        },
        "id": "-v_OL8zBGwUi",
        "outputId": "8082fdfd-62a1-40ea-b34c-bfcafcf4c7bf"
      },
      "execution_count": null,
      "outputs": [
        {
          "output_type": "stream",
          "name": "stdout",
          "text": [
            "15M\thomework/clip_model/\n"
          ]
        }
      ]
    },
    {
      "cell_type": "code",
      "execution_count": null,
      "metadata": {
        "colab": {
          "base_uri": "https://localhost:8080/"
        },
        "id": "sTL9VX5c2niw",
        "outputId": "f473d3b0-0c81-4faa-84ff-0c74af81a47a"
      },
      "outputs": [
        {
          "output_type": "stream",
          "name": "stdout",
          "text": [
            "2025-08-11 21:04:31.163963: I tensorflow/core/util/port.cc:153] oneDNN custom operations are on. You may see slightly different numerical results due to floating-point round-off errors from different computation orders. To turn them off, set the environment variable `TF_ENABLE_ONEDNN_OPTS=0`.\n",
            "2025-08-11 21:04:31.182717: E external/local_xla/xla/stream_executor/cuda/cuda_fft.cc:467] Unable to register cuFFT factory: Attempting to register factory for plugin cuFFT when one has already been registered\n",
            "WARNING: All log messages before absl::InitializeLog() is called are written to STDERR\n",
            "E0000 00:00:1754946271.204294   35887 cuda_dnn.cc:8579] Unable to register cuDNN factory: Attempting to register factory for plugin cuDNN when one has already been registered\n",
            "E0000 00:00:1754946271.210877   35887 cuda_blas.cc:1407] Unable to register cuBLAS factory: Attempting to register factory for plugin cuBLAS when one has already been registered\n",
            "W0000 00:00:1754946271.228438   35887 computation_placer.cc:177] computation placer already registered. Please check linkage and avoid linking the same target more than once.\n",
            "W0000 00:00:1754946271.228463   35887 computation_placer.cc:177] computation placer already registered. Please check linkage and avoid linking the same target more than once.\n",
            "W0000 00:00:1754946271.228466   35887 computation_placer.cc:177] computation placer already registered. Please check linkage and avoid linking the same target more than once.\n",
            "W0000 00:00:1754946271.228468   35887 computation_placer.cc:177] computation placer already registered. Please check linkage and avoid linking the same target more than once.\n",
            "2025-08-11 21:04:31.233288: I tensorflow/core/platform/cpu_feature_guard.cc:210] This TensorFlow binary is optimized to use available CPU instructions in performance-critical operations.\n",
            "To enable the following instructions: AVX2 AVX512F AVX512_VNNI FMA, in other operations, rebuild TensorFlow with the appropriate compiler flags.\n",
            "Val grader loaded.\n",
            "\u001b[97m[INFO     00:07:639] \u001b[0m\u001b[97mVLM Model Grader\u001b[0m\n",
            "INFO:grader:VLM Model Grader\n",
            "100% 4/4 [00:17<00:00,  4.35s/it]\n",
            "\u001b[97m[INFO     00:32:106] \u001b[0m\u001b[97mTesting accuracy is: 0.733333\u001b[0m\n",
            "INFO:grader:Testing accuracy is: 0.733333\n",
            "\u001b[33m[WARNING  00:32:122] \u001b[0m\u001b[33m  - Test the answer accuracy                           [ 50 / 50  ]\u001b[0m\n",
            "WARNING:grader:  - Test the answer accuracy                           [ 50 / 50  ]\n",
            "\u001b[97m[INFO     00:32:122] \u001b[0m\u001b[97m --------------------------------------------------    [  50 /  50 ]\u001b[0m\n",
            "INFO:grader: --------------------------------------------------    [  50 /  50 ]\n",
            "\u001b[97m[INFO     00:32:123] \u001b[0m\u001b[97mCLIP Model Grader\u001b[0m\n",
            "INFO:grader:CLIP Model Grader\n",
            "\u001b[97m[INFO     01:05:372] \u001b[0m\u001b[97mTesting accuracy is: 0.615000\u001b[0m\n",
            "INFO:grader:Testing accuracy is: 0.615000\n",
            "\u001b[33m[WARNING  01:05:396] \u001b[0m\u001b[33m  - Test the CLIP accuracy                             [ 42 / 50  ]\u001b[0m\n",
            "WARNING:grader:  - Test the CLIP accuracy                             [ 42 / 50  ]\n",
            "\u001b[97m[INFO     01:05:396] \u001b[0m\u001b[97m --------------------------------------------------    [  42 /  50 ]\u001b[0m\n",
            "INFO:grader: --------------------------------------------------    [  42 /  50 ]\n",
            "\u001b[97m[INFO     01:05:396] \u001b[0m\u001b[97mTotal                                                     92 / 100\u001b[0m\n",
            "INFO:grader:Total                                                     92 / 100\n"
          ]
        }
      ],
      "source": [
        "# GRADER\n",
        "!python -m grader homework -v"
      ]
    }
  ],
  "metadata": {
    "accelerator": "GPU",
    "colab": {
      "collapsed_sections": [
        "VrD-qlsRVy_s",
        "dfNTjeaVWHy9",
        "lalRkfJkWREs"
      ],
      "gpuType": "L4",
      "machine_shape": "hm",
      "provenance": [],
      "include_colab_link": true
    },
    "kernelspec": {
      "display_name": "Python 3",
      "name": "python3"
    },
    "language_info": {
      "name": "python"
    }
  },
  "nbformat": 4,
  "nbformat_minor": 0
}